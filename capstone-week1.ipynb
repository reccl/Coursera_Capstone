{
 "cells": [
  {
   "cell_type": "markdown",
   "id": "b9c474c7",
   "metadata": {},
   "source": [
    "# Capstone Project: The Battle of Neighborhoods (Week 1)"
   ]
  },
  {
   "cell_type": "markdown",
   "id": "1c6d2960",
   "metadata": {},
   "source": [
    "### Part 1: Description of the problem and background discussion"
   ]
  },
  {
   "cell_type": "markdown",
   "id": "422fac21",
   "metadata": {},
   "source": [
    "<p> Introduction\n",
    "<p>As Asians from the far east (e.g. Hong Kong, Singapore) with exposure to both Western and \n",
    "Asian culture, migrates to the U.S., a transferable skill would be in the food hospitality \n",
    "industry. It is quite safe to say that Asian cuisine is almost everywhere in the U.S. of A and a \n",
    "method to help provide some statistical data can prove useful to understand the existing \n",
    "market in a particular location. \n",
    "\n",
    "<p>Problem Description\n",
    "<p>For this project, we will analyse the greater Dallas area (or Dallas county) to derive the \n",
    "statistics for various cuisine for the purpose of understanding opportunities of starting up an \n",
    "Asian cuisine. The term Asian cuisine is used loosely here to cover the wide range of \n",
    "cuisines found in the greater Asia and can include fusion for variety and to increase the \n",
    "offering. \n",
    "The definition of Asian cuisine encompasses a wide range of cooking practises and traditions \n",
    "and there is no enforcement on how the term is being used. Just in the Asia region alone, \n",
    "there is Chinese cuisine which varies greatly in taste and flavor at different locations, to \n",
    "Japan, countries in South Asia, and to western parts including India. As such, the definition \n",
    "of Asian cuisine will depend strictly on how it is defined by the source of the data. \n",
    "For this exercise, Dallas was pick for the study for the following reasons:\n",
    "1. It has a large white racial makeup, about 50% and while Asian constitutes about 6%. \n",
    "2. It has mild weather with summer in the mid 30s and its dry, while winter is in the \n",
    "teens with at worse 1 inch of snow or so. \n",
    "3. While it has issues with tornado, the inland is less vulnerable to \n",
    "4. The current unemployment rate is about 10% below the nationwide numbers and it \n",
    "is at its lowest since 2002.\n",
    "In this exercise, we will attempt to understand the statistics around the frequency of various \n",
    "categories of venues and the ratio to the Asian venues for the cities that falls within the \n",
    "Dallas greater area."
   ]
  },
  {
   "cell_type": "code",
   "execution_count": null,
   "id": "16b10683",
   "metadata": {},
   "outputs": [],
   "source": []
  }
 ],
 "metadata": {
  "kernelspec": {
   "display_name": "Python 3",
   "language": "python",
   "name": "python3"
  },
  "language_info": {
   "codemirror_mode": {
    "name": "ipython",
    "version": 3
   },
   "file_extension": ".py",
   "mimetype": "text/x-python",
   "name": "python",
   "nbconvert_exporter": "python",
   "pygments_lexer": "ipython3",
   "version": "3.8.8"
  }
 },
 "nbformat": 4,
 "nbformat_minor": 5
}
