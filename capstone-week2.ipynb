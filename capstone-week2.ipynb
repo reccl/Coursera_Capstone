{
 "cells": [
  {
   "cell_type": "markdown",
   "id": "d2152972",
   "metadata": {},
   "source": [
    "# Capstone Project: The Battle of Neighborhoods (Week 2)"
   ]
  },
  {
   "cell_type": "markdown",
   "id": "30bda492",
   "metadata": {},
   "source": [
    "### Part 2: Data description & how it will be used to solve the problem Data Analytics"
   ]
  },
  {
   "cell_type": "markdown",
   "id": "3891bc0f",
   "metadata": {},
   "source": [
    "<p> <b> Data sources and description of the data </b>\n",
    "\n",
    "<p>There are two sources identified\n",
    "1. It is logical to assume that neighborhoods/towns/cities are not homogeneous. They \n",
    "will have different demographics profile, different distribution of wealth, \n",
    "infrastructure, etc … Hence, a logical method would be to analyse by postal codes or \n",
    "zip codes as they are called in the U.S. Hence, the first data set will be Dallas Zip \n",
    "codes, along with their population. The name Dallas can refer to a county, in which \n",
    "there are cities and towns as listed below:\n",
    "\n",
    "<ol>    \n",
    "    <li>Addison</li>\n",
    "<li>Balch Springs</li>\n",
    "<li>Carrollton</li>\n",
    "<li>Cedar Hill</li>\n",
    "<li>Coppell</li>\n",
    "<li>Dallas</li>\n",
    "<li>Desoto</li>\n",
    "<li>Duncanville</li>\n",
    "<li>Garland</li>\n",
    "<li>Grand Prairie</li>\n",
    "</ol>"
   ]
  },
  {
   "cell_type": "markdown",
   "id": "034ad69f",
   "metadata": {},
   "source": [
    "Each zip code will have a corresponding latitude and longitude value assigned. \n",
    "Unfortunately, a city, by virtue of its size, can have multiple zip codes, and the results \n",
    "have to be grouped by city/town. For the purpose of aligning the nomenclature, \n",
    "cities and towns will be called ‘neighborhood’, and Dallas county will be referred to\n",
    "‘city’ per the the data from Foursquare. "
   ]
  },
  {
   "cell_type": "markdown",
   "id": "6e30ce0f",
   "metadata": {},
   "source": [
    "### Analytical Methods"
   ]
  },
  {
   "cell_type": "markdown",
   "id": "7b4aa467",
   "metadata": {},
   "source": [
    "\n",
    "The basic “Demand and Supply” approached will be used. To achieve this:\n",
    "1. Statistical analysis has to be performed on the types of venues and its frequency by \n",
    "neighborhoods.\n",
    "2. Understanding of how the Asian cuisine market segments itself such as a generic \n",
    "Chinese restaurant vs a Sushi or Peking Duck restaurant. As Chinese forms the \n",
    "greatest land mass in Asia, and the highest population count, understanding will \n",
    "have to be derived from how Foursquare defines this. \n",
    "3. Any correlation between Asian and non-Asian cuisine to derive acceptance rates and \n",
    "opportunities for growth. "
   ]
  },
  {
   "cell_type": "markdown",
   "id": "a8d83517",
   "metadata": {},
   "source": [
    "### Interpretation of results"
   ]
  },
  {
   "cell_type": "markdown",
   "id": "9eb0fd67",
   "metadata": {},
   "source": [
    "1. If an area has a high volume of Asian cuisine with respect to the overall venues \n",
    "count, it could mean that the market is moving towards saturation\n",
    "2. If an area has a very low count of Asian cuisine, with respect to the overall venues \n",
    "count, it could mean that the penetration rate is poor.\n",
    "3. There could be potential correlation between population density, the various types \n",
    "of cuisine and their frequencies. \n",
    "4. Again, the data cannot be interpreted strictly and it should only be used as guide"
   ]
  },
  {
   "cell_type": "code",
   "execution_count": null,
   "id": "8bf44acd",
   "metadata": {},
   "outputs": [],
   "source": []
  }
 ],
 "metadata": {
  "kernelspec": {
   "display_name": "Python 3",
   "language": "python",
   "name": "python3"
  },
  "language_info": {
   "codemirror_mode": {
    "name": "ipython",
    "version": 3
   },
   "file_extension": ".py",
   "mimetype": "text/x-python",
   "name": "python",
   "nbconvert_exporter": "python",
   "pygments_lexer": "ipython3",
   "version": "3.8.8"
  }
 },
 "nbformat": 4,
 "nbformat_minor": 5
}
